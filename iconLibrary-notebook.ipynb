{
 "cells": [
  {
   "attachments": {},
   "cell_type": "markdown",
   "metadata": {},
   "source": [
    "# Create a Quine Icon Library with Python\n",
    "\n",
    "Have you ever wanted to add flair to a graph visualization but are unsure which icons Quine supports? In this blog, we explore a Python script that fetches valid icon names from the web, configures the Exploration UI, then creates a graph of icon nodes for reference. The script uses several popular Python libraries, including Requests, BeautifulSoup, and Halo, along with the `/query-ui` and `/query/cypher` API endpoints.\n",
    "\n",
    "## The Environment\n",
    "\n",
    "Before we start, we need to ensure that we have the necessary libraries installed. We will be using `requests`, `beautifulsoup4`, `log_symbols`, and `halo`. You can install them using `pip`:\n",
    "\n",
    "* [Quine](https://github.com/thatdot/quine/releases/latest) \n",
    "* Python 3\n",
    "* Requests library (`pip install requests`)\n",
    "* BeautifulSoup library (`pip install beautifulsoup4`)\n",
    "* Optional Halo library for operation visuals  (`pip install log-symbols halo`)\n",
    "\n",
    "Start Quine so that it is ready to run the script.\n",
    "\n",
    "`java -jar quine-1.5.3.jar`"
   ]
  },
  {
   "attachments": {},
   "cell_type": "markdown",
   "metadata": {},
   "source": [
    "## The Script\n",
    "\n",
    "The script begins by importing the required libraries:"
   ]
  },
  {
   "cell_type": "code",
   "execution_count": null,
   "metadata": {},
   "outputs": [],
   "source": [
    "import requests\n",
    "import json\n",
    "from halo import Halo\n",
    "from log_symbols import LogSymbols\n",
    "from bs4 import BeautifulSoup"
   ]
  },
  {
   "attachments": {},
   "cell_type": "markdown",
   "metadata": {},
   "source": [
    "## Build a list of icon names\n",
    "\n",
    "We use the `requests` library to GET the webpage referenced in the [Replace Node Appearances](https://docs.quine.io/reference/rest-api.html#/paths/api-v1-query-ui-node-appearances/put) API documentation. Quine supports version 2.0.0 of the [Ionicons](https://ionic.io/ionicons/v2/cheatsheet.html) icon set from the Ionic Framework. The link contains a list of 733 icons supported by Quine. A `try...except` block handles any errors that might occur during the request. If the request is successful, the script saves the HTML content of the page."
   ]
  },
  {
   "cell_type": "code",
   "execution_count": null,
   "metadata": {},
   "outputs": [],
   "source": [
    "try:\n",
    "    url = \"https://ionic.io/ionicons/v2/cheatsheet.html\"\n",
    "    response = requests.get(url)\n",
    "    html = response.content\n",
    "    print(LogSymbols.SUCCESS.value, \"GET Icon Cheatsheet\")\n",
    "except requests.exceptions.RequestException as e:\n",
    "    raise SystemExit(e)"
   ]
  },
  {
   "attachments": {},
   "cell_type": "markdown",
   "metadata": {},
   "source": [
    "Next, we use BeautifulSoup to parse the HTML content of the page to extract all of the icon names. The `soup.select` method finds all `<input>` elements with a `name` attribute and returns a list, which are then looped over to extract the `value` attribute of each tag later. We output `len(all_icons)` to verify that we identified all of the icons."
   ]
  },
  {
   "cell_type": "code",
   "execution_count": null,
   "metadata": {},
   "outputs": [],
   "source": [
    "soup = BeautifulSoup(html, 'html.parser')\n",
    "all_icons = soup.select(\"input.name\")\n",
    "print(LogSymbols.SUCCESS.value, \"Extract Icon Names:\", len(all_icons))"
   ]
  },
  {
   "attachments": {},
   "cell_type": "markdown",
   "metadata": {},
   "source": [
    "## Create Node Appearances\n",
    "\n",
    "Now that we have the icon names, we can use them to create node appearances for the Quine Exploration UI. We'll use the `json` package to format the `nodeAppearances` data as JSON, and `requests` to replace the current `nodeAppearances` with a PUT to the `/query-ui/node-appearances` endpoint. We wrap the API call in `try...expect` as before to handle any errors. \n",
    "\n",
    "* `predicate`: filter which nodes to apply this style\n",
    "* `size`: the size of the icon in pixels\n",
    "* `icon`: the name of the icon\n",
    "* `label`: the label of the node\n",
    "\n",
    "> **Note**: Cypher does not allow dash (`-`) characters in node labels. We get around this by replacing all of the dashes with underscores in the node labels."
   ]
  },
  {
   "cell_type": "code",
   "execution_count": null,
   "metadata": {},
   "outputs": [],
   "source": [
    "nodeAppearances = [\n",
    "    {\n",
    "        \"predicate\": {\n",
    "            \"propertyKeys\": [],\n",
    "            \"knownValues\": {},\n",
    "            \"dbLabel\": icon_name[\"value\"].replace(\"-\", \"_\")\n",
    "        },\n",
    "        \"size\":40.0,\n",
    "        \"icon\": icon_name[\"value\"],\n",
    "        \"label\": {\n",
    "            \"key\": \"name\",\n",
    "            \"type\": \"Property\"\n",
    "        }\n",
    "    } for icon_name in all_icons]\n",
    "json_data = json.dumps(nodeAppearances)\n",
    "try:\n",
    "    headers = {'Content-type': 'application/json'}\n",
    "    response = requests.put(\n",
    "        'http://localhost:8080/api/v1/query-ui/node-appearances', data=json_data, headers=headers)\n",
    "except requests.exceptions.RequestException as e:\n",
    "    raise SystemExit(e)\n",
    "print(LogSymbols.SUCCESS.value, \"PUT Node Appearances\")"
   ]
  },
  {
   "attachments": {},
   "cell_type": "markdown",
   "metadata": {},
   "source": [
    "## Create Icon Nodes\n",
    "\n",
    "Finally, our script creates icon nodes by sending a series of POST requests to the Quine `/query/cypher` endpoint. For each icon name, a Cypher query creates the corresponding icon node and connects it to the appropriate group node. We use `Halo` to create a spinner while we POST the icon data to Quine."
   ]
  },
  {
   "cell_type": "code",
   "execution_count": null,
   "metadata": {},
   "outputs": [],
   "source": [
    "quineSpinner = Halo(text='Creating Icon Nodes', spinner='bouncingBar')\n",
    "try:\n",
    "    quineSpinner.start()\n",
    "    for icon_name in all_icons:\n",
    "        group = icon_name[\"value\"].split('-',2)\n",
    "        query_text = (\n",
    "            f'MATCH (a), (b), (c) '\n",
    "            f'WHERE id(a) = idFrom(\"{group[0]}\") '\n",
    "            f'  AND id(b) = idFrom(\"{group[1]}\") '\n",
    "            f'  AND id(c) = idFrom(\"{icon_name[\"value\"]}\") '\n",
    "            f'SET a:{group[0]}, a.name = \"{group[0]}\" '\n",
    "            f'SET b:{group[1]}, b.name = \"{group[1]}\" '\n",
    "            f'SET c:{icon_name[\"value\"].replace(\"-\", \"_\")}, c.name = \"{icon_name[\"value\"]}\" '\n",
    "            f'CREATE (a)<-[:` `]-(b)<-[:` `]-(c)'\n",
    "          ) if len(group) == 3 else (\n",
    "            f'MATCH (a), (c) '\n",
    "            f'WHERE id(a) = idFrom(\"{group[0]}\") '\n",
    "            f' AND id(c) = idFrom(\"{icon_name[\"value\"]}\") '\n",
    "            f'SET a:{group[0]}, a.name = \"{group[0]}\" '\n",
    "            f'SET c:{icon_name[\"value\"].replace(\"-\", \"_\")}, c.name = \"{icon_name[\"value\"]}\" '\n",
    "            f'CREATE (a)<-[:` `]-(c)'\n",
    "          )\n",
    "        quineSpinner.text = query_text\n",
    "        headers = {'Content-type': 'text/plain'}\n",
    "        # print(query_text)\n",
    "        response = requests.post(\n",
    "            'http://localhost:8080/api/v1/query/cypher', data=query_text, headers=headers)\n",
    "    quineSpinner.succeed('POST Icon Nodes')\n",
    "except requests.exceptions.Timeout as timeout:\n",
    "    quineSpinner.stop('Request Timeout: ' + timeout)\n",
    "except requests.exceptions.RequestException as e:\n",
    "    raise SystemExit(e)"
   ]
  },
  {
   "attachments": {},
   "cell_type": "markdown",
   "metadata": {},
   "source": [
    "## Running the script\n",
    "\n",
    "At this point, we are ready to run the script and visualize the icons supported in Quine.\n",
    "\n",
    "`python3 iconLibrary.py`\n",
    "\n",
    "The script updates the console as it moves through the blocks of code that we described above. \n",
    "\n",
    "```shell\n",
    "✔ GET Icon Cheatsheet\n",
    "✔ Extract Icon Names: 733\n",
    "✔ PUT Node Appearances\n",
    "✔ POST Icon Nodes\n",
    "```\n",
    "\n",
    "Navigate to Quine in your browser and load all of the nodes that we just created into the Exploration UI. There are multiple ways to load all of the nodes in the UI, for this example, we use `MATCH (n) RETURN n`. The Exploration UI will warn that you are about to render 787 nodes which is correct for all of the icons and grouping nodes generated by the script. Hit the OK button to view the graph. \n",
    "\n",
    "> Note: If you already had Quine open in a browser before running the script, you will need to refresh your browser window to load the new `nodeAppearances` submitted by the query in order for the nodes to render correctly.\n",
    "\n",
    "In our case, the nodes are jumbled when they are first rendered. Click the play button in the top nav to have Quine organize the graph. Our result produced the graph visualization of all supported icons below:\n",
    "\n",
    "![](./iconLibray-graph.png)"
   ]
  },
  {
   "attachments": {},
   "cell_type": "markdown",
   "metadata": {},
   "source": [
    "## Conclusion\n",
    "\n",
    "There you have it, a graph visualization using all of the icons Quine supports!\n",
    "\n",
    "This script can generate the `nodeAppearances` graph and serve as a starting point if you are looking to automate fetching non-streaming data from websites to enrich streaming data stored in Quine. \n",
    "\n",
    "![](./quine-interactiveDocs.png)\n",
    "\n",
    "If you want to learn more about Quine or explore using other API libraries with Quine, check out the interactive [REST API documentation](https://docs.quine.io/reference/rest-api.html#/) available via the document icon in the left nav bar. The interactive documentation is a great place to submit API requests. Code samples in popular languages quickly are mocked up in the docs for use when experimenting with small projects like this yourself."
   ]
  }
 ],
 "metadata": {
  "kernelspec": {
   "display_name": "Python 3",
   "language": "python",
   "name": "python3"
  },
  "language_info": {
   "codemirror_mode": {
    "name": "ipython",
    "version": 3
   },
   "file_extension": ".py",
   "mimetype": "text/x-python",
   "name": "python",
   "nbconvert_exporter": "python",
   "pygments_lexer": "ipython3",
   "version": "3.11.3"
  },
  "orig_nbformat": 4
 },
 "nbformat": 4,
 "nbformat_minor": 2
}
