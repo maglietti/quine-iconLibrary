{
 "cells": [
  {
   "cell_type": "code",
   "execution_count": null,
   "metadata": {},
   "outputs": [],
   "source": [
    "import requests\n",
    "import json, yaml\n",
    "from bs4 import BeautifulSoup as bs"
   ]
  },
  {
   "cell_type": "code",
   "execution_count": null,
   "metadata": {},
   "outputs": [],
   "source": [
    "url = \"https://ionic.io/ionicons/v2/cheatsheet.html\"\n",
    "response = requests.get(url)\n",
    "html = response.content"
   ]
  },
  {
   "cell_type": "code",
   "execution_count": null,
   "metadata": {},
   "outputs": [],
   "source": [
    "soup = bs(html, 'html.parser')\n",
    "all_icons = soup.select(\"input.name\")\n",
    "print(\"Icons:\", len(all_icons))\n",
    "#for icon_name in all_icons:\n",
    "#    print(icon_name[\"value\"])"
   ]
  },
  {
   "cell_type": "code",
   "execution_count": null,
   "metadata": {},
   "outputs": [],
   "source": [
    "nodeAppearances = [{\"predicate\":{\"propertyKeys\":[],\"knownValues\":{},\"dbLabel\": icon_name[\"value\"].replace(\"-\", \"_\")},\"size\":40.0,\"icon\": icon_name[\"value\"]} for icon_name in all_icons]"
   ]
  },
  {
   "cell_type": "code",
   "execution_count": null,
   "metadata": {},
   "outputs": [],
   "source": [
    "json_data = json.dumps(nodeAppearances)\n",
    "headers = {'Content-type': 'application/json'}\n",
    "response = requests.put('http://localhost:8080/api/v1/query-ui/node-appearances', data=json_data, headers=headers)\n",
    "print(response)"
   ]
  },
  {
   "cell_type": "code",
   "execution_count": null,
   "metadata": {},
   "outputs": [],
   "source": [
    "for icon_name in all_icons:\n",
    "    query_text = 'CREATE (n:' + icon_name[\"value\"].replace(\"-\", \"_\") + ')'\n",
    "    print(query_text)\n",
    "    headers = {'Content-type': 'text/plain'}\n",
    "    response = requests.post('http://localhost:8080/api/v1/query/cypher', data=query_text, headers=headers)\n",
    "    print(response)"
   ]
  },
  {
   "cell_type": "code",
   "execution_count": null,
   "metadata": {},
   "outputs": [],
   "source": [
    "# print(json.dumps(nodeAppearances))"
   ]
  },
  {
   "cell_type": "code",
   "execution_count": null,
   "metadata": {},
   "outputs": [],
   "source": [
    "#print(yaml.dump(nodeAppearances))"
   ]
  }
 ],
 "metadata": {
  "kernelspec": {
   "display_name": "Python 3",
   "language": "python",
   "name": "python3"
  },
  "language_info": {
   "codemirror_mode": {
    "name": "ipython",
    "version": 3
   },
   "file_extension": ".py",
   "mimetype": "text/x-python",
   "name": "python",
   "nbconvert_exporter": "python",
   "pygments_lexer": "ipython3",
   "version": "3.10.10"
  },
  "orig_nbformat": 4
 },
 "nbformat": 4,
 "nbformat_minor": 2
}
